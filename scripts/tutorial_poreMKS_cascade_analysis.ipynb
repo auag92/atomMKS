{
 "cells": [
  {
   "cell_type": "markdown",
   "metadata": {},
   "source": [
    "This notebook demonstrates the use of a python package called atommks towards analyzing nanoporous molecular structures."
   ]
  },
  {
   "cell_type": "code",
   "execution_count": 1,
   "metadata": {
    "scrolled": true
   },
   "outputs": [],
   "source": [
    "%load_ext autoreload\n",
    "%autoreload 2"
   ]
  },
  {
   "cell_type": "code",
   "execution_count": 2,
   "metadata": {
    "scrolled": true
   },
   "outputs": [],
   "source": [
    "import warnings\n",
    "warnings.filterwarnings(\"ignore\")\n",
    "import os\n",
    "import time\n",
    "import numpy as np\n",
    "import ase.io as aio\n",
    "import scipy.io as sio\n",
    "import matplotlib.pyplot as plt\n",
    "import atommks.porosity as pore\n",
    "import atommks.grid_generator as gen\n",
    "from atommks.helpers import write2vtk\n",
    "from toolz.curried import pipe, curry"
   ]
  },
  {
   "cell_type": "code",
   "execution_count": 3,
   "metadata": {
    "scrolled": true
   },
   "outputs": [],
   "source": [
    "def get_radii(atom_id, radius_type=\"vdw\"):\n",
    "    \"\"\"\n",
    "    atom_id: element symbol\n",
    "    radius_type = \"vdw\" for Van der Waals or \"cov\" for Covalent\n",
    "    \"\"\"\n",
    "    import pandas as pd\n",
    "    \n",
    "    xl = pd.ExcelFile(\"Elemental_Radii.xlsx\")\n",
    "    df = xl.parse(sheet_name=0, header = 2, index_col=1)\n",
    "    \n",
    "    if radius_type is \"cov\":\n",
    "        key = 6\n",
    "    elif radius_type is \"vdw\":\n",
    "        key = 7\n",
    "    else:\n",
    "        raise ValueError(\"radius_type not supported\")\n",
    "    if atom_id in df.index:\n",
    "        return df.loc[atom_id][key]\n",
    "    else:\n",
    "        raise ValueError(\"Elemental symbol not found\")"
   ]
  },
  {
   "cell_type": "markdown",
   "metadata": {},
   "source": [
    "## Load Structure of Interest"
   ]
  },
  {
   "cell_type": "markdown",
   "metadata": {},
   "source": [
    "### For an amorphous hydrocarbon macromolecular structure"
   ]
  },
  {
   "cell_type": "code",
   "execution_count": 4,
   "metadata": {
    "scrolled": true
   },
   "outputs": [],
   "source": [
    "cif = \"EFK_50A_0.80.xyz\"\n",
    "rep = [1, 1, 1]\n",
    "fname = os.path.join(\"hydrocarbons\", \"EFK_50A_0.80.xyz\")"
   ]
  },
  {
   "cell_type": "markdown",
   "metadata": {},
   "source": [
    "### For a 3D bulk zeolite"
   ]
  },
  {
   "cell_type": "code",
   "execution_count": 5,
   "metadata": {
    "scrolled": true
   },
   "outputs": [],
   "source": [
    "cif = \"MFI.cif\"\n",
    "fname = os.path.join(\"iza_zeolites\", cif)\n",
    "rep = [2]*3\n",
    "# radii={\"Si\":1.35, \"O\": 1.35} # from the zeo++ paper"
   ]
  },
  {
   "cell_type": "markdown",
   "metadata": {},
   "source": [
    "### Load the structure information using ase library as an atom object"
   ]
  },
  {
   "cell_type": "code",
   "execution_count": 6,
   "metadata": {
    "scrolled": true
   },
   "outputs": [
    {
     "name": "stdout",
     "output_type": "stream",
     "text": [
      "No. of atoms in the structure: 2304\n"
     ]
    }
   ],
   "source": [
    "atom = pipe(fname, \n",
    "            lambda fname: aio.read(fname), \n",
    "            lambda x: x.repeat(rep))\n",
    "\n",
    "atom_ids = sorted(np.unique(atom.get_chemical_symbols()))\n",
    "\n",
    "radii = {}\n",
    "for idx in atom_ids:\n",
    "    radii[idx] = get_radii(idx)\n",
    "\n",
    "print(\"No. of atoms in the structure: %d\" % len(atom))"
   ]
  },
  {
   "cell_type": "markdown",
   "metadata": {},
   "source": [
    "## Generate Voxelized Representation of the Pore Structure"
   ]
  },
  {
   "cell_type": "code",
   "execution_count": 7,
   "metadata": {
    "scrolled": true
   },
   "outputs": [
    {
     "name": "stdout",
     "output_type": "stream",
     "text": [
      "(403, 396, 264)\n",
      "CPU times: user 2.59 s, sys: 9.3 s, total: 11.9 s\n",
      "Wall time: 12 s\n"
     ]
    }
   ],
   "source": [
    "%%time\n",
    "len_pixel = 10\n",
    "S, S_list, box_dim = gen.grid_maker(atom, len_pixel=len_pixel, atomic_radii=radii, full=False, fft=False)\n",
    "print(S.shape)"
   ]
  },
  {
   "cell_type": "markdown",
   "metadata": {},
   "source": [
    "### Compute Conventional Pore Metrics - PLD and LCD"
   ]
  },
  {
   "cell_type": "markdown",
   "metadata": {},
   "source": [
    "```\n",
    "distance grid computation time: 3.798s\n",
    "PLD: 3.883\n",
    "PLD computation time: 2.863s\n",
    "LCD: 6.353\n",
    "LCD computation time: 0.010s\n",
    "```"
   ]
  },
  {
   "cell_type": "code",
   "execution_count": 8,
   "metadata": {
    "scrolled": true
   },
   "outputs": [
    {
     "name": "stdout",
     "output_type": "stream",
     "text": [
      "distance grid computation time: 1.109s\n",
      "PLD: 3.883\n",
      "PLD computation time: 1.926s\n",
      "LCD: 6.353\n",
      "LCD computation time: 0.008s\n"
     ]
    }
   ],
   "source": [
    "strt = time.time()\n",
    "padval = ((1, 1), (1, 1), (0, 0)) \n",
    "S_dgrid = pipe(S,\n",
    "               lambda s: np.pad(s, padval, 'constant', constant_values=0),\n",
    "               lambda s: pore.dgrid(s, len_pixel=len_pixel))\n",
    "end = time.time()\n",
    "print(\"distance grid computation time: %1.3fs\"%(end-strt))\n",
    "\n",
    "strt = time.time()\n",
    "pld  = pore.get_pld(S_dgrid)\n",
    "end  = time.time()\n",
    "print(\"PLD: %1.3f\" % pld)\n",
    "print(\"PLD computation time: %1.3fs\"%(end-strt))\n",
    "\n",
    "strt = time.time()\n",
    "lcd  = pore.get_lcd(S_dgrid)\n",
    "end  = time.time()\n",
    "print(\"LCD: %1.3f\" % lcd)\n",
    "print(\"LCD computation time: %1.3fs\"%(end-strt))"
   ]
  },
  {
   "cell_type": "markdown",
   "metadata": {},
   "source": [
    "### For PLD in a different direction"
   ]
  },
  {
   "cell_type": "code",
   "execution_count": 9,
   "metadata": {
    "scrolled": true
   },
   "outputs": [
    {
     "name": "stdout",
     "output_type": "stream",
     "text": [
      "4.3046875\n",
      "CPU times: user 2.62 s, sys: 455 ms, total: 3.07 s\n",
      "Wall time: 3.07 s\n"
     ]
    }
   ],
   "source": [
    "%%time\n",
    "padval = ((1, 1), (1, 1), (0, 0)) \n",
    "pld = pipe(S, \n",
    "           lambda s: np.rot90(s, axes=(0,2)),\n",
    "           lambda s: np.pad(s, padval, 'constant', constant_values=0),\n",
    "           lambda s: pore.dgrid(s, len_pixel=len_pixel),\n",
    "           lambda s: pore.get_pld(s))\n",
    "print(pld)"
   ]
  },
  {
   "cell_type": "markdown",
   "metadata": {},
   "source": [
    "# Geometric and Statistical analysis of diffusion pathways\n",
    "\n",
    "Compute the fraction of the void space within the molecular structure that is accessible to a probe molecule traversing in a particular direction\n",
    "\n",
    "- Convert admissible coordinates to graph structure\n",
    " - generate adjacency matrix from graph structure\n",
    " - use adjacency matrix to identify shortest paths\n",
    " - use a Shortest Path heuristic on the adjacency matrix to prune the medial axis network of dead ends.\n",
    " - for the pruned path, use eculidean distance from nearest atoms at each path voxel as a metric of pore size distribution"
   ]
  },
  {
   "cell_type": "markdown",
   "metadata": {},
   "source": [
    "### Extract pore volume accessible to a probe moleucle"
   ]
  },
  {
   "cell_type": "code",
   "execution_count": 10,
   "metadata": {
    "scrolled": true
   },
   "outputs": [
    {
     "name": "stdout",
     "output_type": "stream",
     "text": [
      "Pore Cleaning Computation Time: 0.526s\n"
     ]
    }
   ],
   "source": [
    "strt = time.time()\n",
    "padval = ((0, 0), (0, 0), (0, 0))\n",
    "S_dgrid = pipe(S,\n",
    "               lambda s: np.pad(s, padval, 'constant', constant_values=0),\n",
    "               lambda s: pore.dgrid(s, len_pixel=len_pixel))\n",
    "end = time.time()\n",
    "\n",
    "strt = time.time()\n",
    "S_1 = (pore.gen_cleanPore(S_dgrid, r_probe=1.0, r_min=2.5, len_pixel=len_pixel) > 0) * 1\n",
    "end = time.time()\n",
    "print(\"Pore Cleaning Computation Time: %1.3fs\" % (end-strt))"
   ]
  },
  {
   "cell_type": "markdown",
   "metadata": {},
   "source": [
    "```\n",
    "%%time\n",
    "# To generate vtk file of the accessible void region for visualization\n",
    "write2vtk(S_1, \"%s_pore.vtk\" % cif)\n",
    "```"
   ]
  },
  {
   "cell_type": "code",
   "execution_count": 11,
   "metadata": {
    "scrolled": true
   },
   "outputs": [
    {
     "name": "stdout",
     "output_type": "stream",
     "text": [
      "CPU times: user 7.3 s, sys: 576 ms, total: 7.87 s\n",
      "Wall time: 9.36 s\n"
     ]
    }
   ],
   "source": [
    "%%time\n",
    "# To generate vtk file of the accessible void region for visualization\n",
    "write2vtk(S_1, \"%s_pore.vtk\" % cif)"
   ]
  },
  {
   "cell_type": "markdown",
   "metadata": {},
   "source": [
    "### Generate skeletonized representation of pore structure"
   ]
  },
  {
   "cell_type": "markdown",
   "metadata": {},
   "source": [
    "```\n",
    "Medial Path Computation Time: 13.179s\n",
    "```"
   ]
  },
  {
   "cell_type": "code",
   "execution_count": 12,
   "metadata": {
    "scrolled": true
   },
   "outputs": [
    {
     "name": "stdout",
     "output_type": "stream",
     "text": [
      "Medial Path Computation Time: 9.635s\n"
     ]
    }
   ],
   "source": [
    "strt = time.time()\n",
    "S_2 = pipe(S_1, \n",
    "           lambda x: np.pad(x, pad_width=((0,0),(0,0),(len_pixel, len_pixel)), mode = \"constant\", constant_values=1), \n",
    "           lambda x: pore.gen_medialAxis(x)[:,:,len_pixel:-len_pixel])\n",
    "end = time.time()\n",
    "print(\"Medial Path Computation Time: %1.3fs\" % (end-strt))"
   ]
  },
  {
   "cell_type": "markdown",
   "metadata": {},
   "source": [
    "### Compute Shortest Paths connecting opposing faces of the molecular structure"
   ]
  },
  {
   "cell_type": "markdown",
   "metadata": {},
   "source": [
    "```\n",
    "Through Path Computation Time: 9.820s\n",
    "Mean and setdev of path lengths: 3.606, 0.438\n",
    "```"
   ]
  },
  {
   "cell_type": "code",
   "execution_count": 13,
   "metadata": {
    "scrolled": true
   },
   "outputs": [
    {
     "name": "stdout",
     "output_type": "stream",
     "text": [
      "Through Path Computation Time: 8.822s\n",
      "Mean and setdev of path lengths: 3.607, 0.438\n"
     ]
    }
   ],
   "source": [
    "strt = time.time()\n",
    "S_3, paths = pore.gen_throughPath(S_2, depth=1)\n",
    "end = time.time()\n",
    "print(\"Through Path Computation Time: %1.3fs\" % (end-strt))\n",
    "print(\"Mean and setdev of path lengths: %1.3f, %1.3f\" % (np.mean(paths), np.std(paths)))"
   ]
  },
  {
   "cell_type": "code",
   "execution_count": 14,
   "metadata": {
    "scrolled": true
   },
   "outputs": [
    {
     "name": "stdout",
     "output_type": "stream",
     "text": [
      "No. of unique channels: 1\n"
     ]
    }
   ],
   "source": [
    "n_channels = len(pore.return_labelled(S_1)[-1])\n",
    "print(\"No. of unique channels: %d\" % n_channels)"
   ]
  },
  {
   "cell_type": "code",
   "execution_count": 15,
   "metadata": {
    "scrolled": true
   },
   "outputs": [
    {
     "name": "stdout",
     "output_type": "stream",
     "text": [
      "CPU times: user 7.12 s, sys: 496 ms, total: 7.61 s\n",
      "Wall time: 8.81 s\n"
     ]
    }
   ],
   "source": [
    "%%time\n",
    "# to generate vtk file of the medial path for visualization\n",
    "write2vtk(S_3, \"%s_through_path.vtk\" % cif)"
   ]
  },
  {
   "cell_type": "markdown",
   "metadata": {},
   "source": [
    "### Compute accessible surface area and volume"
   ]
  },
  {
   "cell_type": "code",
   "execution_count": 16,
   "metadata": {
    "scrolled": true
   },
   "outputs": [
    {
     "name": "stdout",
     "output_type": "stream",
     "text": [
      "Probe Accessible Surface Area: 10701.460\n",
      "Probe Accessible Volume: 5401.031\n"
     ]
    }
   ],
   "source": [
    "asa = pore.get_asa(S_1, len_pixel=10)\n",
    "print(\"Probe Accessible Surface Area: %1.3f\" % asa)\n",
    "av = np.count_nonzero(S_1) * (1 / len_pixel)**3\n",
    "print(\"Probe Accessible Volume: %1.3f\" % av)"
   ]
  },
  {
   "cell_type": "markdown",
   "metadata": {},
   "source": [
    "### Compute pore size distribution"
   ]
  },
  {
   "cell_type": "code",
   "execution_count": 17,
   "metadata": {
    "scrolled": true
   },
   "outputs": [
    {
     "name": "stdout",
     "output_type": "stream",
     "text": [
      "Mean and setdev of pore size distribution: 2.051, 0.397\n"
     ]
    }
   ],
   "source": [
    "psd = S_dgrid[S_2==1]\n",
    "print(\"Mean and setdev of pore size distribution: %1.3f, %1.3f\" % (np.mean(psd), np.std(psd)))"
   ]
  },
  {
   "cell_type": "code",
   "execution_count": 18,
   "metadata": {
    "scrolled": true
   },
   "outputs": [
    {
     "name": "stdout",
     "output_type": "stream",
     "text": [
      "dimensions of the structure:  [40.3 39.6 26.4]\n"
     ]
    }
   ],
   "source": [
    "dim = np.asarray(S.shape) / len_pixel\n",
    "print(\"dimensions of the structure: \", dim)"
   ]
  },
  {
   "cell_type": "markdown",
   "metadata": {},
   "source": [
    "### Visualize path length distribution (length in angstrom)"
   ]
  },
  {
   "cell_type": "code",
   "execution_count": 19,
   "metadata": {
    "scrolled": true
   },
   "outputs": [
    {
     "data": {
      "image/png": "[encoded data removed]",
      "text/plain": [
       "<Figure size 640x480 with 1 Axes>"
      ]
     },
     "metadata": {},
     "output_type": "display_data"
    }
   ],
   "source": [
    "plt.hist(paths)\n",
    "plt.show()"
   ]
  },
  {
   "cell_type": "markdown",
   "metadata": {},
   "source": [
    "### Visualize pore size distribution (length in angstrom)"
   ]
  },
  {
   "cell_type": "code",
   "execution_count": 20,
   "metadata": {},
   "outputs": [
    {
     "data": {
      "image/png": "[encoded data removed]",
      "text/plain": [
       "<Figure size 640x480 with 1 Axes>"
      ]
     },
     "metadata": {},
     "output_type": "display_data"
    }
   ],
   "source": [
    "plt.hist(psd)\n",
    "plt.show()"
   ]
  },
  {
   "cell_type": "code",
   "execution_count": 21,
   "metadata": {},
   "outputs": [
    {
     "data": {
      "text/html": [
       "<div>\n",
       "<style scoped>\n",
       "    .dataframe tbody tr th:only-of-type {\n",
       "        vertical-align: middle;\n",
       "    }\n",
       "\n",
       "    .dataframe tbody tr th {\n",
       "        vertical-align: top;\n",
       "    }\n",
       "\n",
       "    .dataframe thead th {\n",
       "        text-align: right;\n",
       "    }\n",
       "</style>\n",
       "<table border=\"1\" class=\"dataframe\">\n",
       "  <thead>\n",
       "    <tr style=\"text-align: right;\">\n",
       "      <th></th>\n",
       "      <th>Unnamed: 0</th>\n",
       "      <th>pld</th>\n",
       "      <th>lcd</th>\n",
       "      <th>asa</th>\n",
       "      <th>av</th>\n",
       "      <th>psd mean</th>\n",
       "      <th>psd std</th>\n",
       "      <th>n_paths</th>\n",
       "      <th>paths mean</th>\n",
       "      <th>paths std</th>\n",
       "      <th>xdim</th>\n",
       "      <th>ydim</th>\n",
       "      <th>zdim</th>\n",
       "      <th>n_channels</th>\n",
       "    </tr>\n",
       "    <tr>\n",
       "      <th>cif</th>\n",
       "      <th></th>\n",
       "      <th></th>\n",
       "      <th></th>\n",
       "      <th></th>\n",
       "      <th></th>\n",
       "      <th></th>\n",
       "      <th></th>\n",
       "      <th></th>\n",
       "      <th></th>\n",
       "      <th></th>\n",
       "      <th></th>\n",
       "      <th></th>\n",
       "      <th></th>\n",
       "      <th></th>\n",
       "    </tr>\n",
       "  </thead>\n",
       "  <tbody>\n",
       "    <tr>\n",
       "      <th>ABW</th>\n",
       "      <td>0</td>\n",
       "      <td>2.476562</td>\n",
       "      <td>4.242640</td>\n",
       "      <td>2824.94</td>\n",
       "      <td>1546.396</td>\n",
       "      <td>0.994927</td>\n",
       "      <td>0.524161</td>\n",
       "      <td>589.0</td>\n",
       "      <td>1.690595</td>\n",
       "      <td>0.268248</td>\n",
       "      <td>18.5</td>\n",
       "      <td>9.5</td>\n",
       "      <td>16.8</td>\n",
       "      <td>1.0</td>\n",
       "    </tr>\n",
       "    <tr>\n",
       "      <th>ACO</th>\n",
       "      <td>1</td>\n",
       "      <td>3.601562</td>\n",
       "      <td>4.604346</td>\n",
       "      <td>5859.62</td>\n",
       "      <td>3399.968</td>\n",
       "      <td>1.090194</td>\n",
       "      <td>0.590122</td>\n",
       "      <td>550.0</td>\n",
       "      <td>1.732020</td>\n",
       "      <td>0.351302</td>\n",
       "      <td>18.6</td>\n",
       "      <td>18.6</td>\n",
       "      <td>18.4</td>\n",
       "      <td>1.0</td>\n",
       "    </tr>\n",
       "    <tr>\n",
       "      <th>AEI</th>\n",
       "      <td>2</td>\n",
       "      <td>3.601562</td>\n",
       "      <td>7.337575</td>\n",
       "      <td>19212.96</td>\n",
       "      <td>15170.100</td>\n",
       "      <td>1.418122</td>\n",
       "      <td>0.816693</td>\n",
       "      <td>2376.0</td>\n",
       "      <td>1.444696</td>\n",
       "      <td>0.115261</td>\n",
       "      <td>26.2</td>\n",
       "      <td>25.6</td>\n",
       "      <td>36.9</td>\n",
       "      <td>1.0</td>\n",
       "    </tr>\n",
       "  </tbody>\n",
       "</table>\n",
       "</div>"
      ],
      "text/plain": [
       "     Unnamed: 0       pld       lcd       asa         av  psd mean   psd std  \\\n",
       "cif                                                                            \n",
       "ABW           0  2.476562  4.242640   2824.94   1546.396  0.994927  0.524161   \n",
       "ACO           1  3.601562  4.604346   5859.62   3399.968  1.090194  0.590122   \n",
       "AEI           2  3.601562  7.337575  19212.96  15170.100  1.418122  0.816693   \n",
       "\n",
       "     n_paths  paths mean  paths std  xdim  ydim  zdim  n_channels  \n",
       "cif                                                                \n",
       "ABW    589.0    1.690595   0.268248  18.5   9.5  16.8         1.0  \n",
       "ACO    550.0    1.732020   0.351302  18.6  18.6  18.4         1.0  \n",
       "AEI   2376.0    1.444696   0.115261  26.2  25.6  36.9         1.0  "
      ]
     },
     "execution_count": 21,
     "metadata": {},
     "output_type": "execute_result"
    }
   ],
   "source": [
    "import pandas as pd\n",
    "pore_data_df = pd.read_csv(\"iza_bulk.csv\", header = 0, sep = \",\", on_bad_lines='skip', index_col=\"cif\")\n",
    "pore_data_df.head(3)\n",
    "\n",
    "# def get_pore_data(material_id: str):\n",
    "#     \"\"\"\n",
    "#     material_id: IZA framework code\n",
    "#     \"\"\"\n",
    "\n",
    "\n",
    "\n",
    "#     return pore_data_df.loc[material_id]"
   ]
  },
  {
   "cell_type": "code",
   "execution_count": 22,
   "metadata": {},
   "outputs": [
    {
     "name": "stdout",
     "output_type": "stream",
     "text": [
      "PLD: 2.4765625, LCD: 4.242640495300293, ASA: 2824.9400000000005, AV: 1546.3960000000004, PSD: 0.9949274063110352\n"
     ]
    }
   ],
   "source": [
    "def get_pore_data(material_id: str):\n",
    "    \"\"\"\n",
    "    material_id: IZA framework code\n",
    "    \"\"\"\n",
    "    import pandas as pd\n",
    "    pore_data_df = pd.read_csv(\"iza_bulk.csv\", header = 0, sep = \",\", on_bad_lines='skip', index_col=\"cif\")\n",
    "\n",
    "    if material_id in pore_data_df.index:\n",
    "        row = pore_data_df.loc[material_id]\n",
    "        return row.to_dict()\n",
    "    else:\n",
    "        raise ValueError(\"Material ID not found\")\n",
    "    \n",
    "material_id = \"ABW\"\n",
    "pore_data = get_pore_data(material_id)\n",
    "print(f\"PLD: {pore_data['pld']}, LCD: {pore_data['lcd']}, ASA: {pore_data['asa']}, AV: {pore_data['av']}, PSD: {pore_data['psd mean']}\")"
   ]
  },
  {
   "cell_type": "code",
   "execution_count": 23,
   "metadata": {},
   "outputs": [
    {
     "data": {
      "text/plain": [
       "True"
      ]
     },
     "execution_count": 23,
     "metadata": {},
     "output_type": "execute_result"
    }
   ],
   "source": [
    "material_id in pore_data_df.index"
   ]
  }
 ],
 "metadata": {
  "kernelspec": {
   "display_name": "atom",
   "language": "python",
   "name": "python3"
  },
  "language_info": {
   "codemirror_mode": {
    "name": "ipython",
    "version": 3
   },
   "file_extension": ".py",
   "mimetype": "text/x-python",
   "name": "python",
   "nbconvert_exporter": "python",
   "pygments_lexer": "ipython3",
   "version": "3.10.15"
  }
 },
 "nbformat": 4,
 "nbformat_minor": 2
}
