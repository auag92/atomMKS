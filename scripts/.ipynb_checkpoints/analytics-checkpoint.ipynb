{
 "cells": [
  {
   "cell_type": "code",
   "execution_count": 1,
   "metadata": {},
   "outputs": [],
   "source": [
    "import os\n",
    "import ase\n",
    "import time\n",
    "import glob\n",
    "import numpy as np\n",
    "import ase.io as aio\n",
    "import scipy.io as sio\n",
    "import multiprocessing as mp\n",
    "import poremks.porosity as pore\n",
    "from toolz.curried import pipe, curry\n",
    "import poremks.grid_generator as gen\n",
    "from poremks.helpers import write2vtk"
   ]
  },
  {
   "cell_type": "code",
   "execution_count": 2,
   "metadata": {},
   "outputs": [],
   "source": [
    "fname = \"input3dSlabs/MTN.cif\"\n",
    "rep = [1]*3\n",
    "radii={\"Si\":1.35, \"O\": 1.35}\n",
    "len_pixel=10"
   ]
  },
  {
   "cell_type": "code",
   "execution_count": 3,
   "metadata": {},
   "outputs": [
    {
     "name": "stdout",
     "output_type": "stream",
     "text": [
      "2.4765625\n",
      "7.43572473526001\n",
      "CPU times: user 31.2 s, sys: 7.97 s, total: 39.2 s\n",
      "Wall time: 26.2 s\n"
     ]
    }
   ],
   "source": [
    "%%time\n",
    "atom = aio.read(fname).repeat(rep)\n",
    "\n",
    "S = gen.grid_maker(atom,\n",
    "                   len_pixel=len_pixel,\n",
    "                   radii=radii.copy(),\n",
    "                   full=False,\n",
    "                   fft=True)[0]\n",
    "\n",
    "padval = ((1, 1), (1, 1), (0, 0))\n",
    "S_dgrid = pipe(S,\n",
    "               lambda s: np.pad(s, padval, 'constant', constant_values=0),\n",
    "               lambda s: pore.dgrid(s, len_pixel))\n",
    "\n",
    "pld = pore.get_pld(S_dgrid)\n",
    "lcd = pore.get_lcd(S_dgrid)\n",
    "\n",
    "print(pld)\n",
    "print(lcd)"
   ]
  }
 ],
 "metadata": {
  "kernelspec": {
   "display_name": "Python 3",
   "language": "python",
   "name": "python3"
  },
  "language_info": {
   "codemirror_mode": {
    "name": "ipython",
    "version": 3
   },
   "file_extension": ".py",
   "mimetype": "text/x-python",
   "name": "python",
   "nbconvert_exporter": "python",
   "pygments_lexer": "ipython3",
   "version": "3.6.6"
  }
 },
 "nbformat": 4,
 "nbformat_minor": 2
}
