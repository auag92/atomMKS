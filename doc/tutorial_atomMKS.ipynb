{
 "cells": [
  {
   "cell_type": "code",
   "execution_count": 1,
   "metadata": {},
   "outputs": [],
   "source": [
    "%load_ext autoreload\n",
    "%autoreload 2"
   ]
  },
  {
   "cell_type": "code",
   "execution_count": 2,
   "metadata": {},
   "outputs": [],
   "source": [
    "import warnings\n",
    "warnings.filterwarnings(\"ignore\")\n",
    "import ase\n",
    "import time\n",
    "import glob\n",
    "import ase.io as aio\n",
    "import scipy.io as sio\n",
    "import poremks\n",
    "import poremks.grid_generator as gen\n",
    "import poremks.porosity as pore\n",
    "from poremks.helpers import write2vtk, sphere\n",
    "import numpy as np\n",
    "import ase.visualize as vis\n",
    "import matplotlib.pyplot as plt\n",
    "from toolz.curried import pipe, curry"
   ]
  },
  {
   "cell_type": "markdown",
   "metadata": {},
   "source": [
    "## Load Structure of Interest"
   ]
  },
  {
   "cell_type": "code",
   "execution_count": 3,
   "metadata": {},
   "outputs": [
    {
     "name": "stdout",
     "output_type": "stream",
     "text": [
      "No. of atoms : 288\n",
      "[20.09  19.738 13.142]\n",
      "Orthogonal Unit Cell: True\n",
      "CPU times: user 144 ms, sys: 3.79 ms, total: 148 ms\n",
      "Wall time: 149 ms\n"
     ]
    }
   ],
   "source": [
    "%%time\n",
    "r_Ox = 1.35\n",
    "r_Si = 1.35\n",
    "\n",
    "len_pixel = 10\n",
    "\n",
    "\n",
    "fname = \"input3dSlabs/MFI.cif\"\n",
    "\n",
    "cif = fname.split(\"/\")[-1][:-4]\n",
    "rep = [1, 1, 1]\n",
    "atom = pipe(fname, \n",
    "            lambda fname: aio.read(fname), \n",
    "            lambda x: x.repeat(rep))\n",
    "\n",
    "print(\"No. of atoms : %d\" % len(atom))\n",
    "print(atom.get_cell().diagonal())\n",
    "print(\"Orthogonal Unit Cell:\", np.all(atom.get_cell_lengths_and_angles()[3:] == 90.0))"
   ]
  },
  {
   "cell_type": "markdown",
   "metadata": {},
   "source": [
    "## Generate Voxelized Representation of the Pore Structure"
   ]
  },
  {
   "cell_type": "code",
   "execution_count": 4,
   "metadata": {},
   "outputs": [
    {
     "name": "stdout",
     "output_type": "stream",
     "text": [
      "(202, 198, 133)\n",
      "CPU times: user 2.54 s, sys: 525 ms, total: 3.06 s\n",
      "Wall time: 1.76 s\n"
     ]
    }
   ],
   "source": [
    "%%time\n",
    "\n",
    "fft = True\n",
    "\n",
    "if not fft:\n",
    "    S = gen.grid_maker_edt(atom, len_pixel, r_Si, r_Ox, full=False)[0]\n",
    "else:\n",
    "    atomSi = sphere(r_Si * len_pixel)\n",
    "    atomOx = sphere(r_Ox * len_pixel)\n",
    "    S = gen.grid_maker_fft(atom, len_pixel, r_Si, r_Ox, full=False)[0]\n",
    "    \n",
    "print(S.shape)"
   ]
  },
  {
   "cell_type": "code",
   "execution_count": 5,
   "metadata": {},
   "outputs": [],
   "source": [
    "write2vtk(S, \"mfi.vtk\")"
   ]
  },
  {
   "cell_type": "markdown",
   "metadata": {},
   "source": [
    "## Conventional Pore Metrics - PLD and LCD"
   ]
  },
  {
   "cell_type": "code",
   "execution_count": 6,
   "metadata": {
    "scrolled": false
   },
   "outputs": [
    {
     "name": "stdout",
     "output_type": "stream",
     "text": [
      "distance grid computation time: 0.705s\n",
      "PLD: 4.445\n",
      "PLD computation time: 0.816s\n",
      "LCD: 6.723\n",
      "LCD computation time: 0.003s\n"
     ]
    }
   ],
   "source": [
    "strt = time.time()\n",
    "padval = ((1, 1), (1, 1), (0, 0)) \n",
    "S_dgrid = pipe(S,\n",
    "               lambda s: np.pad(S, padval, 'constant', constant_values=0),\n",
    "               lambda s: pore.dgrid(S, len_pixel=len_pixel))\n",
    "end = time.time()\n",
    "print(\"distance grid computation time: %1.3fs\"%(end-strt))\n",
    "\n",
    "strt = time.time()\n",
    "pld  = pore.get_pld(S_dgrid)\n",
    "end  = time.time()\n",
    "print(\"PLD: %1.3f\" % pld)\n",
    "print(\"PLD computation time: %1.3fs\"%(end-strt))\n",
    "\n",
    "strt = time.time()\n",
    "lcd  = pore.get_lcd(S_dgrid)\n",
    "end  = time.time()\n",
    "print(\"LCD: %1.3f\" % lcd)\n",
    "print(\"LCD computation time: %1.3fs\"%(end-strt))"
   ]
  },
  {
   "cell_type": "markdown",
   "metadata": {},
   "source": [
    "### For PLD in a different direction"
   ]
  },
  {
   "cell_type": "code",
   "execution_count": 7,
   "metadata": {},
   "outputs": [
    {
     "name": "stdout",
     "output_type": "stream",
     "text": [
      "4.3046875\n",
      "CPU times: user 1.69 s, sys: 197 ms, total: 1.88 s\n",
      "Wall time: 1.51 s\n"
     ]
    }
   ],
   "source": [
    "%%time\n",
    "pld = pipe(S, \n",
    "           lambda s: np.rot90(s, axes=(0,2)),\n",
    "           lambda s: np.pad(s, padval, 'constant', constant_values=0),\n",
    "           lambda s: pore.dgrid(s, len_pixel=len_pixel),\n",
    "           lambda s: pore.get_pld(s))\n",
    "print(pld)"
   ]
  },
  {
   "cell_type": "markdown",
   "metadata": {},
   "source": [
    "# Shortest Path Algorithm\n",
    "\n",
    "- Convert admissible coordinates to graph structure\n",
    " - generate adjacency matrix from graph structure\n",
    " - use adjacency matrix to identify shortest paths\n",
    " - Use DFS or BFS or Shortest Path on adjacency matrix to prune the medial path and scan through all independant medial paths to identify PLD\n",
    " - For the pruned path, use eculidean distance from nearest atoms as an additional metric and try to identify the flow through the structure as a heuristic."
   ]
  },
  {
   "cell_type": "code",
   "execution_count": 8,
   "metadata": {
    "scrolled": false
   },
   "outputs": [
    {
     "name": "stdout",
     "output_type": "stream",
     "text": [
      "Pore Cleaning Computation Time: 0.269s\n",
      "Medial Path Computation Time: 3.049s\n",
      "Through Path Computation Time: 1.406s\n",
      "Mean and setdev of path lengths: 2.770, 0.214\n",
      "No. of unique paths: 1\n",
      "Probe Accessible Surface Area: 1603.740\n",
      "Probe Accessible Volume: 941.574\n",
      "Mean and setdev of pore size distribution: 2.085, 0.509\n",
      "dimensions of the structure:  [20.2 19.8 13.3]\n"
     ]
    }
   ],
   "source": [
    "strt = time.time()\n",
    "S_1 = (pore.gen_cleanPore(S_dgrid, r_probe=1.0, r_min=2.5, len_pixel=len_pixel) > 0) * 1\n",
    "end = time.time()\n",
    "print(\"Pore Cleaning Computation Time: %1.3fs\" % (end-strt))\n",
    "\n",
    "strt = time.time()\n",
    "S_11 = np.pad(S_1, pad_width=((0,0),(0,0),(len_pixel, len_pixel)), mode = \"constant\", constant_values=1)\n",
    "S_2 = pore.gen_medialAxis(S_11)[:,:,len_pixel:-len_pixel]\n",
    "end = time.time()\n",
    "print(\"Medial Path Computation Time: %1.3fs\" % (end-strt))\n",
    "\n",
    "strt = time.time()\n",
    "S_3, paths = pore.gen_throughPath(S_2, depth=1)\n",
    "end = time.time()\n",
    "print(\"Through Path Computation Time: %1.3fs\" % (end-strt))\n",
    "print(\"Mean and setdev of path lengths: %1.3f, %1.3f\" % (np.mean(paths), np.std(paths)))\n",
    "\n",
    "n_paths = len(pore.return_labelled(S_1)[-1])\n",
    "print(\"No. of unique paths: %d\" % n_paths)\n",
    "      \n",
    "asa = pore.get_asa(S_1, len_pixel=10)\n",
    "print(\"Probe Accessible Surface Area: %1.3f\" % asa)\n",
    "av = np.count_nonzero(S_1) * (1 / len_pixel)**3\n",
    "print(\"Probe Accessible Volume: %1.3f\" % av)\n",
    "\n",
    "psd = S_dgrid[S_2==1]\n",
    "print(\"Mean and setdev of pore size distribution: %1.3f, %1.3f\" % (np.mean(psd), np.std(psd)))\n",
    "\n",
    "dim = np.asarray(S.shape) / len_pixel\n",
    "print(\"dimensions of the structure: \", dim)"
   ]
  },
  {
   "cell_type": "code",
   "execution_count": 9,
   "metadata": {},
   "outputs": [
    {
     "data": {
      "image/png": "[encoded data removed]",
      "text/plain": [
       "<Figure size 432x288 with 1 Axes>"
      ]
     },
     "metadata": {
      "needs_background": "light"
     },
     "output_type": "display_data"
    }
   ],
   "source": [
    "plt.hist(paths)\n",
    "plt.show()"
   ]
  },
  {
   "cell_type": "code",
   "execution_count": 10,
   "metadata": {
    "scrolled": false
   },
   "outputs": [
    {
     "name": "stdout",
     "output_type": "stream",
     "text": [
      "CPU times: user 9.48 s, sys: 707 ms, total: 10.2 s\n",
      "Wall time: 10.3 s\n"
     ]
    }
   ],
   "source": [
    "%%time\n",
    "write2vtk(S_1, \"%s_pore.vtk\" % cif)\n",
    "write2vtk(S_2, \"%s_path.vtk\" % cif)\n",
    "write2vtk(S_3, \"%s_through_path.vtk\" % cif)"
   ]
  }
 ],
 "metadata": {
  "kernelspec": {
   "display_name": "Python 3",
   "language": "python",
   "name": "python3"
  },
  "language_info": {
   "codemirror_mode": {
    "name": "ipython",
    "version": 3
   },
   "file_extension": ".py",
   "mimetype": "text/x-python",
   "name": "python",
   "nbconvert_exporter": "python",
   "pygments_lexer": "ipython3",
   "version": "3.6.6"
  }
 },
 "nbformat": 4,
 "nbformat_minor": 2
}
