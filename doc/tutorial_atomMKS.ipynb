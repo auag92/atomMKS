{
 "cells": [
  {
   "cell_type": "code",
   "execution_count": 1,
   "metadata": {},
   "outputs": [],
   "source": [
    "%load_ext autoreload\n",
    "%autoreload 2"
   ]
  },
  {
   "cell_type": "code",
   "execution_count": 2,
   "metadata": {},
   "outputs": [],
   "source": [
    "import warnings\n",
    "warnings.filterwarnings(\"ignore\")\n",
    "import ase\n",
    "import time\n",
    "import glob\n",
    "import ase.io as aio\n",
    "import scipy.io as sio\n",
    "import poremks\n",
    "import poremks.grid_generator as gen\n",
    "import poremks.porosity as pore\n",
    "from poremks.helpers import write2vtk, sphere\n",
    "import numpy as np\n",
    "import ase.visualize as vis\n",
    "import matplotlib.pyplot as plt\n",
    "from toolz.curried import pipe, curry"
   ]
  },
  {
   "cell_type": "markdown",
   "metadata": {},
   "source": [
    "## Load Structure of Interest"
   ]
  },
  {
   "cell_type": "code",
   "execution_count": 3,
   "metadata": {},
   "outputs": [
    {
     "name": "stdout",
     "output_type": "stream",
     "text": [
      "No. of atoms : 288\n",
      "[20.09  19.738 13.142]\n",
      "Orthogonal Unit Cell: True\n",
      "CPU times: user 91.2 ms, sys: 193 µs, total: 91.4 ms\n",
      "Wall time: 90.3 ms\n"
     ]
    }
   ],
   "source": [
    "%%time\n",
    "r_Ox = 1.35\n",
    "r_Si = 1.35\n",
    "\n",
    "len_pixel = 10\n",
    "\n",
    "\n",
    "fname = \"MFI.cif\"\n",
    "\n",
    "cif = fname.split(\"/\")[-1][:-4]\n",
    "rep = [1, 1, 1]\n",
    "atom = pipe(fname, \n",
    "            lambda fname: aio.read(fname), \n",
    "            lambda x: x.repeat(rep))\n",
    "\n",
    "print(\"No. of atoms : %d\" % len(atom))\n",
    "print(atom.get_cell().diagonal())\n",
    "print(\"Orthogonal Unit Cell:\", np.all(atom.get_cell_lengths_and_angles()[3:] == 90.0))"
   ]
  },
  {
   "cell_type": "markdown",
   "metadata": {},
   "source": [
    "## Generate Voxelized Representation of the Pore Structure"
   ]
  },
  {
   "cell_type": "code",
   "execution_count": 6,
   "metadata": {},
   "outputs": [
    {
     "name": "stdout",
     "output_type": "stream",
     "text": [
      "(202, 198, 133)\n",
      "CPU times: user 1.65 s, sys: 284 ms, total: 1.93 s\n",
      "Wall time: 996 ms\n"
     ]
    }
   ],
   "source": [
    "%%time\n",
    "radii={\"Si\":r_Si, \"O\": r_Ox}\n",
    "S, S_list, box_dim = gen.grid_maker(atom, len_pixel=10, radii=radii, full=False, fft=True)\n",
    "print(S.shape)"
   ]
  },
  {
   "cell_type": "code",
   "execution_count": 5,
   "metadata": {},
   "outputs": [
    {
     "ename": "NameError",
     "evalue": "name 'S' is not defined",
     "output_type": "error",
     "traceback": [
      "\u001b[0;31m---------------------------------------------------------------------------\u001b[0m",
      "\u001b[0;31mNameError\u001b[0m                                 Traceback (most recent call last)",
      "\u001b[0;32m<ipython-input-5-c568d8875961>\u001b[0m in \u001b[0;36m<module>\u001b[0;34m()\u001b[0m\n\u001b[0;32m----> 1\u001b[0;31m \u001b[0mwrite2vtk\u001b[0m\u001b[0;34m(\u001b[0m\u001b[0mS\u001b[0m\u001b[0;34m,\u001b[0m \u001b[0;34m\"mfi_pore.vtk\"\u001b[0m\u001b[0;34m)\u001b[0m\u001b[0;34m\u001b[0m\u001b[0m\n\u001b[0m\u001b[1;32m      2\u001b[0m \u001b[0mwrite2vtk\u001b[0m\u001b[0;34m(\u001b[0m\u001b[0mS_list\u001b[0m\u001b[0;34m[\u001b[0m\u001b[0;36m0\u001b[0m\u001b[0;34m]\u001b[0m\u001b[0;34m,\u001b[0m \u001b[0;34m\"mfi_o.vtk\"\u001b[0m\u001b[0;34m)\u001b[0m\u001b[0;34m\u001b[0m\u001b[0m\n\u001b[1;32m      3\u001b[0m \u001b[0mwrite2vtk\u001b[0m\u001b[0;34m(\u001b[0m\u001b[0mS_list\u001b[0m\u001b[0;34m[\u001b[0m\u001b[0;36m1\u001b[0m\u001b[0;34m]\u001b[0m\u001b[0;34m,\u001b[0m \u001b[0;34m\"mfi_si.vtk\"\u001b[0m\u001b[0;34m)\u001b[0m\u001b[0;34m\u001b[0m\u001b[0m\n",
      "\u001b[0;31mNameError\u001b[0m: name 'S' is not defined"
     ]
    }
   ],
   "source": [
    "write2vtk(S, \"mfi_pore.vtk\")\n",
    "write2vtk(S_list[0], \"mfi_o.vtk\")\n",
    "write2vtk(S_list[1], \"mfi_si.vtk\")"
   ]
  },
  {
   "cell_type": "markdown",
   "metadata": {},
   "source": [
    "## Conventional Pore Metrics - PLD and LCD"
   ]
  },
  {
   "cell_type": "code",
   "execution_count": null,
   "metadata": {
    "scrolled": false
   },
   "outputs": [],
   "source": [
    "strt = time.time()\n",
    "padval = ((1, 1), (1, 1), (0, 0)) \n",
    "S_dgrid = pipe(S,\n",
    "               lambda s: np.pad(S, padval, 'constant', constant_values=0),\n",
    "               lambda s: pore.dgrid(S, len_pixel=len_pixel))\n",
    "end = time.time()\n",
    "print(\"distance grid computation time: %1.3fs\"%(end-strt))\n",
    "\n",
    "strt = time.time()\n",
    "pld  = pore.get_pld(S_dgrid)\n",
    "end  = time.time()\n",
    "print(\"PLD: %1.3f\" % pld)\n",
    "print(\"PLD computation time: %1.3fs\"%(end-strt))\n",
    "\n",
    "strt = time.time()\n",
    "lcd  = pore.get_lcd(S_dgrid)\n",
    "end  = time.time()\n",
    "print(\"LCD: %1.3f\" % lcd)\n",
    "print(\"LCD computation time: %1.3fs\"%(end-strt))"
   ]
  },
  {
   "cell_type": "markdown",
   "metadata": {},
   "source": [
    "### For PLD in a different direction"
   ]
  },
  {
   "cell_type": "code",
   "execution_count": null,
   "metadata": {},
   "outputs": [],
   "source": [
    "%%time\n",
    "pld = pipe(S, \n",
    "           lambda s: np.rot90(s, axes=(0,2)),\n",
    "           lambda s: np.pad(s, padval, 'constant', constant_values=0),\n",
    "           lambda s: pore.dgrid(s, len_pixel=len_pixel),\n",
    "           lambda s: pore.get_pld(s))\n",
    "print(pld)"
   ]
  },
  {
   "cell_type": "markdown",
   "metadata": {},
   "source": [
    "# Shortest Path Algorithm\n",
    "\n",
    "- Convert admissible coordinates to graph structure\n",
    " - generate adjacency matrix from graph structure\n",
    " - use adjacency matrix to identify shortest paths\n",
    " - Use DFS or BFS or Shortest Path on adjacency matrix to prune the medial path and scan through all independant medial paths to identify PLD\n",
    " - For the pruned path, use eculidean distance from nearest atoms as an additional metric and try to identify the flow through the structure as a heuristic."
   ]
  },
  {
   "cell_type": "code",
   "execution_count": null,
   "metadata": {
    "scrolled": false
   },
   "outputs": [],
   "source": [
    "strt = time.time()\n",
    "S_1 = (pore.gen_cleanPore(S_dgrid, r_probe=1.0, r_min=2.5, len_pixel=len_pixel) > 0) * 1\n",
    "end = time.time()\n",
    "print(\"Pore Cleaning Computation Time: %1.3fs\" % (end-strt))\n",
    "\n",
    "strt = time.time()\n",
    "S_11 = np.pad(S_1, pad_width=((0,0),(0,0),(len_pixel, len_pixel)), mode = \"constant\", constant_values=1)\n",
    "S_2 = pore.gen_medialAxis(S_11)[:,:,len_pixel:-len_pixel]\n",
    "end = time.time()\n",
    "print(\"Medial Path Computation Time: %1.3fs\" % (end-strt))\n",
    "\n",
    "strt = time.time()\n",
    "S_3, paths = pore.gen_throughPath(S_2, depth=1)\n",
    "end = time.time()\n",
    "print(\"Through Path Computation Time: %1.3fs\" % (end-strt))\n",
    "print(\"Mean and setdev of path lengths: %1.3f, %1.3f\" % (np.mean(paths), np.std(paths)))\n",
    "\n",
    "n_paths = len(pore.return_labelled(S_1)[-1])\n",
    "print(\"No. of unique paths: %d\" % n_paths)\n",
    "      \n",
    "asa = pore.get_asa(S_1, len_pixel=10)\n",
    "print(\"Probe Accessible Surface Area: %1.3f\" % asa)\n",
    "av = np.count_nonzero(S_1) * (1 / len_pixel)**3\n",
    "print(\"Probe Accessible Volume: %1.3f\" % av)\n",
    "\n",
    "psd = S_dgrid[S_2==1]\n",
    "print(\"Mean and setdev of pore size distribution: %1.3f, %1.3f\" % (np.mean(psd), np.std(psd)))\n",
    "\n",
    "dim = np.asarray(S.shape) / len_pixel\n",
    "print(\"dimensions of the structure: \", dim)"
   ]
  },
  {
   "cell_type": "code",
   "execution_count": null,
   "metadata": {},
   "outputs": [],
   "source": [
    "plt.hist(paths)\n",
    "plt.show()"
   ]
  },
  {
   "cell_type": "code",
   "execution_count": null,
   "metadata": {
    "scrolled": false
   },
   "outputs": [],
   "source": [
    "%%time\n",
    "write2vtk(S_1, \"%s_pore.vtk\" % cif)\n",
    "write2vtk(S_2, \"%s_path.vtk\" % cif)\n",
    "write2vtk(S_3, \"%s_through_path.vtk\" % cif)"
   ]
  }
 ],
 "metadata": {
  "kernelspec": {
   "display_name": "Python 3",
   "language": "python",
   "name": "python3"
  },
  "language_info": {
   "codemirror_mode": {
    "name": "ipython",
    "version": 3
   },
   "file_extension": ".py",
   "mimetype": "text/x-python",
   "name": "python",
   "nbconvert_exporter": "python",
   "pygments_lexer": "ipython3",
   "version": "3.6.6"
  }
 },
 "nbformat": 4,
 "nbformat_minor": 2
}
